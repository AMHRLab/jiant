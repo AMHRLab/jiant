{
 "cells": [
  {
   "cell_type": "code",
   "execution_count": 6,
   "metadata": {},
   "outputs": [],
   "source": [
    "import pandas as pd\n",
    "from simpletransformers.classification import ClassificationModel\n",
    "import sklearn\n",
    "import numpy as np\n",
    "\n",
    "df = pd.read_json(\"sentenceLengthTrain.jsonl\", lines=True)\n",
    "dev = pd.read_json(\"sentenceLengthDev.jsonl\", lines=True)\n",
    "\n",
    "labels = None\n",
    "with open(\"train-labels.lst\") as l:\n",
    "    labels = l.readlines()\n",
    "    labels = [int(int(line.rstrip()) == 2) for line in labels]\n",
    "\n",
    "train_labels = pd.DataFrame(labels, columns =['label'])\n",
    "\n",
    "with open(\"dev-labels.lst\") as l:\n",
    "    labels = l.readlines()\n",
    "    labels = [int(int(line.rstrip()) == 2) for line in labels]\n",
    "\n",
    "dev_labels = pd.DataFrame(labels, columns =['label'])\n",
    "\n",
    "\n",
    "\n",
    "sorted_inds = np.argsort(df.sent_length)\n",
    "df = df.iloc[sorted_inds]\n",
    "train_labels = train_labels.iloc[sorted_inds]\n",
    "\n",
    "\n",
    "sorted_inds = np.argsort(dev.sent_length)\n",
    "dev = dev.iloc[sorted_inds]\n",
    "dev_labels = dev_labels.iloc[sorted_inds]"
   ]
  },
  {
   "cell_type": "code",
   "execution_count": 7,
   "metadata": {},
   "outputs": [],
   "source": [
    "df = pd.DataFrame({\n",
    "        'text_a': '[CLS] ' + df['obs1'].replace(r'\\n', ' ', regex= True) + ' [SEP] ' + df['obs2'].replace(r'\\n', ' ', regex= True) + ' [SEP] ' + df['hyp1'].replace(r'\\n', ' ', regex= True),\n",
    "        'text_b': '[CLS] ' + df['obs1'].replace(r'\\n', ' ', regex= True) + ' [SEP] ' + df['obs2'].replace(r'\\n', ' ', regex= True) + ' [SEP] ' + df['hyp2'].replace(r'\\n', ' ', regex = True),\n",
    "        'labels': train_labels['label'],\n",
    "        'length': df['sent_length']\n",
    "    })\n",
    "\n",
    "\n",
    "dev = pd.DataFrame({ \n",
    "        'text_a': '[CLS] ' + dev['obs1'].replace(r'\\n', ' ', regex= True) + ' [SEP] ' + dev['obs2'].replace(r'\\n', ' ', regex= True) + ' [SEP] ' + dev['hyp1'].replace(r'\\n', ' ', regex= True),\n",
    "        'text_b': '[CLS] ' + dev['obs1'].replace(r'\\n', ' ', regex= True) + ' [SEP] ' + dev['obs2'].replace(r'\\n', ' ', regex= True) + ' [SEP] ' + dev['hyp2'].replace(r'\\n', ' ', regex = True),\n",
    "        'labels': dev_labels['label'],\n",
    "        \n",
    "    })"
   ]
  },
  {
   "cell_type": "code",
   "execution_count": null,
   "metadata": {},
   "outputs": [],
   "source": []
  },
  {
   "cell_type": "code",
   "execution_count": 8,
   "metadata": {},
   "outputs": [],
   "source": [
    "df_1 = df[(df['length'] < 0.25)]\n",
    "df_2 = df[(df['length'] < 0.5)]\n",
    "df_3 = df[(df['length'] < 0.75)]\n",
    "df_4 = df\n",
    "\n",
    "df = [df_1.drop(columns='length'), df_2.drop(columns='length'), df_3, df_4]"
   ]
  },
  {
   "cell_type": "code",
   "execution_count": 9,
   "metadata": {},
   "outputs": [
    {
     "name": "stdout",
     "output_type": "stream",
     "text": [
      "(40542, 4)\n",
      "(78132, 4)\n",
      "(123673, 4)\n",
      "(169654, 4)\n"
     ]
    }
   ],
   "source": [
    "print(\"Bin 1: \" + df_1.shape)\n",
    "print(\"Bin 2: \" + df_2.shape)\n",
    "print(\"Bin 3: \" + df_3.shape)\n",
    "print(\"Bin 4: \" + df_4.shape)"
   ]
  },
  {
   "cell_type": "code",
   "execution_count": 19,
   "metadata": {},
   "outputs": [
    {
     "name": "stdout",
     "output_type": "stream",
     "text": [
      "Could not find the model! Starting training with bin 1\n"
     ]
    },
    {
     "data": {
      "application/vnd.jupyter.widget-view+json": {
       "model_id": "443add1701ab474bb3d73e4c68a3fadc",
       "version_major": 2,
       "version_minor": 0
      },
      "text/plain": [
       "HBox(children=(FloatProgress(value=0.0, description='Epoch', max=1.0, style=ProgressStyle(description_width='i…"
      ]
     },
     "metadata": {},
     "output_type": "display_data"
    },
    {
     "data": {
      "application/vnd.jupyter.widget-view+json": {
       "model_id": "fe57997d94714d9ca732f2304b37c5c0",
       "version_major": 2,
       "version_minor": 0
      },
      "text/plain": [
       "HBox(children=(FloatProgress(value=0.0, description='Current iteration', max=2534.0, style=ProgressStyle(descr…"
      ]
     },
     "metadata": {},
     "output_type": "display_data"
    },
    {
     "name": "stdout",
     "output_type": "stream",
     "text": [
      "Running loss: 0.021599\n",
      "\n"
     ]
    },
    {
     "data": {
      "application/vnd.jupyter.widget-view+json": {
       "model_id": "11f17363619b4274a1bb4fccc4f196d3",
       "version_major": 2,
       "version_minor": 0
      },
      "text/plain": [
       "HBox(children=(FloatProgress(value=0.0, max=96.0), HTML(value='')))"
      ]
     },
     "metadata": {},
     "output_type": "display_data"
    },
    {
     "name": "stdout",
     "output_type": "stream",
     "text": [
      "\n",
      "{'mcc': 0.4898184680486515, 'tp': 566, 'tn': 575, 'fp': 206, 'fn': 185, 'acc': 0.7447780678851175, 'eval_loss': 0.8236465589919438}\n",
      "Found the model! Continuing training with bin 2\n"
     ]
    },
    {
     "data": {
      "application/vnd.jupyter.widget-view+json": {
       "model_id": "433b4cce3f0e4abcbafb57620756f46c",
       "version_major": 2,
       "version_minor": 0
      },
      "text/plain": [
       "HBox(children=(FloatProgress(value=0.0, max=78132.0), HTML(value='')))"
      ]
     },
     "metadata": {},
     "output_type": "display_data"
    },
    {
     "name": "stdout",
     "output_type": "stream",
     "text": [
      "\n"
     ]
    },
    {
     "data": {
      "application/vnd.jupyter.widget-view+json": {
       "model_id": "8edcd20126dd4da0acb7bd0cced2d09b",
       "version_major": 2,
       "version_minor": 0
      },
      "text/plain": [
       "HBox(children=(FloatProgress(value=0.0, description='Epoch', max=1.0, style=ProgressStyle(description_width='i…"
      ]
     },
     "metadata": {},
     "output_type": "display_data"
    },
    {
     "data": {
      "application/vnd.jupyter.widget-view+json": {
       "model_id": "883c7e40248a4b07b44442965c67d7ca",
       "version_major": 2,
       "version_minor": 0
      },
      "text/plain": [
       "HBox(children=(FloatProgress(value=0.0, description='Current iteration', max=4884.0, style=ProgressStyle(descr…"
      ]
     },
     "metadata": {},
     "output_type": "display_data"
    },
    {
     "name": "stdout",
     "output_type": "stream",
     "text": [
      "Running loss: 0.200955\n",
      "\n"
     ]
    },
    {
     "data": {
      "application/vnd.jupyter.widget-view+json": {
       "model_id": "4c91a252456d43f287260586f1001933",
       "version_major": 2,
       "version_minor": 0
      },
      "text/plain": [
       "HBox(children=(FloatProgress(value=0.0, max=96.0), HTML(value='')))"
      ]
     },
     "metadata": {},
     "output_type": "display_data"
    },
    {
     "name": "stdout",
     "output_type": "stream",
     "text": [
      "\n",
      "{'mcc': 0.5403808067598695, 'tp': 578, 'tn': 602, 'fp': 179, 'fn': 173, 'acc': 0.7702349869451697, 'eval_loss': 0.8602239430183545}\n",
      "Found the model! Continuing training with bin 3\n"
     ]
    },
    {
     "data": {
      "application/vnd.jupyter.widget-view+json": {
       "model_id": "5c13366fc64a4b88b9f4c8a6fa577ba1",
       "version_major": 2,
       "version_minor": 0
      },
      "text/plain": [
       "HBox(children=(FloatProgress(value=0.0, max=123673.0), HTML(value='')))"
      ]
     },
     "metadata": {},
     "output_type": "display_data"
    },
    {
     "name": "stdout",
     "output_type": "stream",
     "text": [
      "\n"
     ]
    },
    {
     "data": {
      "application/vnd.jupyter.widget-view+json": {
       "model_id": "2041647a77cf48a589355648b9c10f4d",
       "version_major": 2,
       "version_minor": 0
      },
      "text/plain": [
       "HBox(children=(FloatProgress(value=0.0, description='Epoch', max=1.0, style=ProgressStyle(description_width='i…"
      ]
     },
     "metadata": {},
     "output_type": "display_data"
    },
    {
     "data": {
      "application/vnd.jupyter.widget-view+json": {
       "model_id": "05159452547f41709110b96b6fefc815",
       "version_major": 2,
       "version_minor": 0
      },
      "text/plain": [
       "HBox(children=(FloatProgress(value=0.0, description='Current iteration', max=7730.0, style=ProgressStyle(descr…"
      ]
     },
     "metadata": {},
     "output_type": "display_data"
    },
    {
     "name": "stdout",
     "output_type": "stream",
     "text": [
      "Running loss: 0.002346\n",
      "\n"
     ]
    },
    {
     "data": {
      "application/vnd.jupyter.widget-view+json": {
       "model_id": "e5ae685cf1864ff9956f339aef77082c",
       "version_major": 2,
       "version_minor": 0
      },
      "text/plain": [
       "HBox(children=(FloatProgress(value=0.0, max=96.0), HTML(value='')))"
      ]
     },
     "metadata": {},
     "output_type": "display_data"
    },
    {
     "name": "stdout",
     "output_type": "stream",
     "text": [
      "\n",
      "{'mcc': 0.5758284310854256, 'tp': 596, 'tn': 611, 'fp': 170, 'fn': 155, 'acc': 0.7878590078328982, 'eval_loss': 0.8448484289304664}\n",
      "Found the model! Continuing training with bin 4\n"
     ]
    },
    {
     "data": {
      "application/vnd.jupyter.widget-view+json": {
       "model_id": "f911bf3b2d4e47d2ad17653a4e268959",
       "version_major": 2,
       "version_minor": 0
      },
      "text/plain": [
       "HBox(children=(FloatProgress(value=0.0, description='Epoch', max=1.0, style=ProgressStyle(description_width='i…"
      ]
     },
     "metadata": {},
     "output_type": "display_data"
    },
    {
     "data": {
      "application/vnd.jupyter.widget-view+json": {
       "model_id": "4139780a9c944d4c8405d7b1968d9453",
       "version_major": 2,
       "version_minor": 0
      },
      "text/plain": [
       "HBox(children=(FloatProgress(value=0.0, description='Current iteration', max=10604.0, style=ProgressStyle(desc…"
      ]
     },
     "metadata": {},
     "output_type": "display_data"
    },
    {
     "name": "stdout",
     "output_type": "stream",
     "text": [
      "Running loss: 0.337460\n",
      "\n"
     ]
    },
    {
     "data": {
      "application/vnd.jupyter.widget-view+json": {
       "model_id": "9d22b888aab94e9e877cf0aa6ac58e32",
       "version_major": 2,
       "version_minor": 0
      },
      "text/plain": [
       "HBox(children=(FloatProgress(value=0.0, max=96.0), HTML(value='')))"
      ]
     },
     "metadata": {},
     "output_type": "display_data"
    },
    {
     "name": "stdout",
     "output_type": "stream",
     "text": [
      "\n",
      "{'mcc': 0.6094663958310761, 'tp': 598, 'tn': 635, 'fp': 146, 'fn': 153, 'acc': 0.8048302872062664, 'eval_loss': 0.8322111684828997}\n"
     ]
    }
   ],
   "source": [
    "import os  \n",
    "num_bins = 4\n",
    "model_path = 'outputs/curriculum_anli'\n",
    "\n",
    "for i in range(0, num_bins):\n",
    "    if os.path.isdir('./outputs/curriculum_anli'):\n",
    "        print(\"Found the model! Continuing training with bin \" + str(i+1))\n",
    "    else:\n",
    "        print(\"Could not find the model! Starting training with bin \" + str(i+1))\n",
    "        model_path = 'roberta-large'\n",
    "        \n",
    "    model = ClassificationModel('roberta', model_path, \n",
    "                                args={'overwrite_output_dir': True,\n",
    "                                         'output_dir': 'outputs/curriculum_anli',\n",
    "                                         'fp16': False,\n",
    "                                         'num_train_epochs': 1,  \n",
    "                                         'reprocess_input_data': False,\n",
    "                                         \"learning_rate\": 5e-6,                                       \n",
    "                                         \"train_batch_size\": 16,\n",
    "                                         \"eval_batch_size\": 16,\n",
    "                                         \"weight_decay\": 0.2,\n",
    "                                         \"max_seq_length\": 128,\n",
    "                                         \"evaluate_during_training_verbose\": True,\n",
    "                                         \"evaluate_during_training\": True,\n",
    "                                         \"weight_decay\": 0,\n",
    "                                         \"do_lower_case\": True,\n",
    "                                         \"n_gpu\": 4, # can be 1 if you have enough memory\n",
    "                                     })\n",
    "\n",
    "                                  \n",
    "    # Train the model\n",
    "    model.train_model(df[i], eval_df=dev)\n",
    "    # Evaluate the model\n",
    "    result, model_outputs, wrong_predictions = model.eval_model(dev, acc=sklearn.metrics.accuracy_score)\n",
    "    print(result)\n",
    "\n"
   ]
  },
  {
   "cell_type": "code",
   "execution_count": null,
   "metadata": {},
   "outputs": [],
   "source": []
  }
 ],
 "metadata": {
  "kernelspec": {
   "display_name": "Python 3",
   "language": "python",
   "name": "python3"
  },
  "language_info": {
   "codemirror_mode": {
    "name": "ipython",
    "version": 3
   },
   "file_extension": ".py",
   "mimetype": "text/x-python",
   "name": "python",
   "nbconvert_exporter": "python",
   "pygments_lexer": "ipython3",
   "version": "3.7.6"
  }
 },
 "nbformat": 4,
 "nbformat_minor": 4
}
