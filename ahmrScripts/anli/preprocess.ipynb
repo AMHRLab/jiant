{
 "cells": [
  {
   "cell_type": "code",
   "execution_count": 1,
   "metadata": {},
   "outputs": [],
   "source": [
    "import pandas as pd\n"
   ]
  },
  {
   "cell_type": "code",
   "execution_count": 2,
   "metadata": {},
   "outputs": [],
   "source": [
    "# read the input files\n",
    "df = pd.read_json(\"train.jsonl\", lines=True)\n",
    "test = pd.read_json(\"dev.jsonl\", lines=True)\n",
    "\n",
    "labels = None\n",
    "with open(\"train-labels.lst\") as l:\n",
    "    labels = l.readlines()\n",
    "    labels = [int(int(line.rstrip()) == 2) for line in labels]\n",
    "\n",
    "train_labels = pd.DataFrame(labels, columns =['label'])\n",
    "\n",
    "with open(\"dev-labels.lst\") as l:\n",
    "    labels = l.readlines()\n",
    "    labels = [int(int(line.rstrip()) == 2) for line in labels]\n",
    "\n",
    "dev_labels = pd.DataFrame(labels, columns =['label'])\n",
    "\n",
    "# process the input data\n",
    "df = pd.DataFrame({\n",
    "        'text_a': '[CLS] ' + df['obs1'].replace(r'\\n', ' ', regex= True) + ' [SEP] ' + df['obs2'].replace(r'\\n', ' ', regex= True) + ' [SEP] ' + df['hyp1'].replace(r'\\n', ' ', regex= True),\n",
    "        'text_b': '[CLS] ' + df['obs1'].replace(r'\\n', ' ', regex= True) + ' [SEP] ' + df['obs2'].replace(r'\\n', ' ', regex= True) + ' [SEP] ' + df['hyp2'].replace(r'\\n', ' ', regex = True),\n",
    "        'labels': train_labels['label']\n",
    "    })\n",
    "\n",
    "\n",
    "test = pd.DataFrame({ \n",
    "        'text_a': '[CLS] ' + test['obs1'].replace(r'\\n', ' ', regex= True) + ' [SEP] ' + test['obs2'].replace(r'\\n', ' ', regex= True) + ' [SEP] ' + test['hyp1'].replace(r'\\n', ' ', regex= True),\n",
    "        'text_b': '[CLS] ' + test['obs1'].replace(r'\\n', ' ', regex= True) + ' [SEP] ' + test['obs2'].replace(r'\\n', ' ', regex= True) + ' [SEP] ' + test['hyp2'].replace(r'\\n', ' ', regex = True),\n",
    "        'labels': dev_labels['label']\n",
    "    })\n",
    "\n"
   ]
  },
  {
   "cell_type": "code",
   "execution_count": 3,
   "metadata": {},
   "outputs": [],
   "source": [
    "# dump into pickles\n",
    "df.to_pickle('train.pkl')\n",
    "test.to_pickle('dev.pkl')"
   ]
  },
  {
   "cell_type": "code",
   "execution_count": 4,
   "metadata": {},
   "outputs": [
    {
     "data": {
      "text/html": [
       "<div>\n",
       "<style scoped>\n",
       "    .dataframe tbody tr th:only-of-type {\n",
       "        vertical-align: middle;\n",
       "    }\n",
       "\n",
       "    .dataframe tbody tr th {\n",
       "        vertical-align: top;\n",
       "    }\n",
       "\n",
       "    .dataframe thead th {\n",
       "        text-align: right;\n",
       "    }\n",
       "</style>\n",
       "<table border=\"1\" class=\"dataframe\">\n",
       "  <thead>\n",
       "    <tr style=\"text-align: right;\">\n",
       "      <th></th>\n",
       "      <th>text_a</th>\n",
       "      <th>text_b</th>\n",
       "      <th>labels</th>\n",
       "    </tr>\n",
       "  </thead>\n",
       "  <tbody>\n",
       "    <tr>\n",
       "      <th>0</th>\n",
       "      <td>[CLS] Chad went to get the wheel alignment mea...</td>\n",
       "      <td>[CLS] Chad went to get the wheel alignment mea...</td>\n",
       "      <td>1</td>\n",
       "    </tr>\n",
       "    <tr>\n",
       "      <th>1</th>\n",
       "      <td>[CLS] Chad went to get the wheel alignment mea...</td>\n",
       "      <td>[CLS] Chad went to get the wheel alignment mea...</td>\n",
       "      <td>0</td>\n",
       "    </tr>\n",
       "    <tr>\n",
       "      <th>2</th>\n",
       "      <td>[CLS] Chad went to get the wheel alignment mea...</td>\n",
       "      <td>[CLS] Chad went to get the wheel alignment mea...</td>\n",
       "      <td>0</td>\n",
       "    </tr>\n",
       "    <tr>\n",
       "      <th>3</th>\n",
       "      <td>[CLS] Chad went to get the wheel alignment mea...</td>\n",
       "      <td>[CLS] Chad went to get the wheel alignment mea...</td>\n",
       "      <td>0</td>\n",
       "    </tr>\n",
       "    <tr>\n",
       "      <th>4</th>\n",
       "      <td>[CLS] Chad went to get the wheel alignment mea...</td>\n",
       "      <td>[CLS] Chad went to get the wheel alignment mea...</td>\n",
       "      <td>0</td>\n",
       "    </tr>\n",
       "  </tbody>\n",
       "</table>\n",
       "</div>"
      ],
      "text/plain": [
       "                                              text_a  \\\n",
       "0  [CLS] Chad went to get the wheel alignment mea...   \n",
       "1  [CLS] Chad went to get the wheel alignment mea...   \n",
       "2  [CLS] Chad went to get the wheel alignment mea...   \n",
       "3  [CLS] Chad went to get the wheel alignment mea...   \n",
       "4  [CLS] Chad went to get the wheel alignment mea...   \n",
       "\n",
       "                                              text_b  labels  \n",
       "0  [CLS] Chad went to get the wheel alignment mea...       1  \n",
       "1  [CLS] Chad went to get the wheel alignment mea...       0  \n",
       "2  [CLS] Chad went to get the wheel alignment mea...       0  \n",
       "3  [CLS] Chad went to get the wheel alignment mea...       0  \n",
       "4  [CLS] Chad went to get the wheel alignment mea...       0  "
      ]
     },
     "execution_count": 4,
     "metadata": {},
     "output_type": "execute_result"
    }
   ],
   "source": [
    "# test the pickle by loading it\n",
    "unpickled_df = pd.read_pickle(\"train.pkl\")\n",
    "unpickled_df.head()"
   ]
  },
  {
   "cell_type": "code",
   "execution_count": null,
   "metadata": {},
   "outputs": [],
   "source": []
  }
 ],
 "metadata": {
  "kernelspec": {
   "display_name": "Python 3",
   "language": "python",
   "name": "python3"
  },
  "language_info": {
   "codemirror_mode": {
    "name": "ipython",
    "version": 3
   },
   "file_extension": ".py",
   "mimetype": "text/x-python",
   "name": "python",
   "nbconvert_exporter": "python",
   "pygments_lexer": "ipython3",
   "version": "3.7.6"
  }
 },
 "nbformat": 4,
 "nbformat_minor": 4
}
