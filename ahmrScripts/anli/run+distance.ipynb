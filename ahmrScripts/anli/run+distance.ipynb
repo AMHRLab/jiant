{
 "cells": [
  {
   "cell_type": "code",
   "execution_count": 1,
   "metadata": {},
   "outputs": [],
   "source": [
    "import pandas as pd\n",
    "from simpletransformers.classification import ClassificationModel\n",
    "import sklearn\n",
    "df = pd.read_pickle(\"train.pkl\")\n",
    "test = pd.read_pickle(\"dev.pkl\")"
   ]
  },
  {
   "cell_type": "code",
   "execution_count": null,
   "metadata": {},
   "outputs": [
    {
     "data": {
      "application/vnd.jupyter.widget-view+json": {
       "model_id": "38c3681b3c22412a8fc938eb18cb175e",
       "version_major": 2,
       "version_minor": 0
      },
      "text/plain": [
       "HBox(children=(FloatProgress(value=0.0, description='Epoch', max=2.0, style=ProgressStyle(description_width='i…"
      ]
     },
     "metadata": {},
     "output_type": "display_data"
    },
    {
     "data": {
      "application/vnd.jupyter.widget-view+json": {
       "model_id": "e862613f67d34f20808c2d54538e68e5",
       "version_major": 2,
       "version_minor": 0
      },
      "text/plain": [
       "HBox(children=(FloatProgress(value=0.0, description='Current iteration', max=10604.0, style=ProgressStyle(desc…"
      ]
     },
     "metadata": {},
     "output_type": "display_data"
    },
    {
     "name": "stdout",
     "output_type": "stream",
     "text": [
      "Running loss: 0.713476"
     ]
    },
    {
     "name": "stderr",
     "output_type": "stream",
     "text": [
      "/home/mirzakhalov/anaconda3/lib/python3.7/site-packages/torch/optim/lr_scheduler.py:224: UserWarning: To get the last learning rate computed by the scheduler, please use `get_last_lr()`.\n",
      "  warnings.warn(\"To get the last learning rate computed by the scheduler, \"\n"
     ]
    },
    {
     "name": "stdout",
     "output_type": "stream",
     "text": [
      "Running loss: 0.160985\n"
     ]
    },
    {
     "data": {
      "application/vnd.jupyter.widget-view+json": {
       "model_id": "9edbe9b2f5184be7988e9183183c11b2",
       "version_major": 2,
       "version_minor": 0
      },
      "text/plain": [
       "HBox(children=(FloatProgress(value=0.0, description='Current iteration', max=10604.0, style=ProgressStyle(desc…"
      ]
     },
     "metadata": {},
     "output_type": "display_data"
    },
    {
     "name": "stdout",
     "output_type": "stream",
     "text": [
      "Running loss: 0.243658"
     ]
    }
   ],
   "source": [
    "# shuffle the samples\n",
    "df = df.sample(frac=1).reset_index(drop=True)\n",
    "test = test.sample(frac=1).reset_index(drop=True)\n",
    "\n",
    "# Create a TransformerModel\n",
    "model = ClassificationModel(\n",
    "                'roberta', \n",
    "                'roberta-large', \n",
    "                    num_labels=2, \n",
    "                        args=(\n",
    "                                    {'overwrite_output_dir': True,\n",
    "                                     'fp16': False,\n",
    "                                     'num_train_epochs': 2,  \n",
    "                                     'reprocess_input_data': False,\n",
    "                                     \"learning_rate\": 5e-6,                                       \n",
    "                                     \"train_batch_size\": 16,\n",
    "                                     \"eval_batch_size\": 16,\n",
    "                                     \"weight_decay\": 0.2,\n",
    "                                     \"max_seq_length\": 128,\n",
    "                                     \"evaluate_during_training_verbose\": True,\n",
    "                                     \"evaluate_during_training\": True,\n",
    "                                     \"do_lower_case\": False,\n",
    "                                     \"n_gpu\": 4, # can be 1 if you have enough memory\n",
    "                                     })\n",
    "                              )\n",
    "# Train the model\n",
    "model.train_model(df, eval_df=test)\n",
    "\n",
    "# Evaluate the model\n",
    "result, model_outputs, wrong_predictions = model.eval_model(test, acc=sklearn.metrics.accuracy_score)\n",
    "print(result)"
   ]
  },
  {
   "cell_type": "code",
   "execution_count": null,
   "metadata": {},
   "outputs": [],
   "source": []
  }
 ],
 "metadata": {
  "kernelspec": {
   "display_name": "Python 3",
   "language": "python",
   "name": "python3"
  },
  "language_info": {
   "codemirror_mode": {
    "name": "ipython",
    "version": 3
   },
   "file_extension": ".py",
   "mimetype": "text/x-python",
   "name": "python",
   "nbconvert_exporter": "python",
   "pygments_lexer": "ipython3",
   "version": "3.7.6"
  }
 },
 "nbformat": 4,
 "nbformat_minor": 4
}
