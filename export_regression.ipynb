{
 "cells": [
  {
   "cell_type": "code",
   "execution_count": 2,
   "metadata": {},
   "outputs": [
    {
     "name": "stdout",
     "output_type": "stream",
     "text": [
      "Collecting statsmodels\n",
      "\u001b[?25l  Downloading https://files.pythonhosted.org/packages/c1/9e/ac389ccbca93a512fcb7e827afa4e5ab97dba6e32c07a87df3a9f130deef/statsmodels-0.10.2-cp36-cp36m-macosx_10_6_intel.whl (10.5MB)\n",
      "\u001b[K    100% |████████████████████████████████| 10.5MB 137kB/s ta 0:00:01\n",
      "\u001b[?25hCollecting patsy>=0.4.0 (from statsmodels)\n",
      "\u001b[?25l  Downloading https://files.pythonhosted.org/packages/ea/0c/5f61f1a3d4385d6bf83b83ea495068857ff8dfb89e74824c6e9eb63286d8/patsy-0.5.1-py2.py3-none-any.whl (231kB)\n",
      "\u001b[K    100% |████████████████████████████████| 235kB 561kB/s ta 0:00:01\n",
      "\u001b[?25hRequirement already satisfied: numpy>=1.11 in /anaconda2/envs/jiant/lib/python3.6/site-packages (from statsmodels) (1.16.0)\n",
      "Requirement already satisfied: pandas>=0.19 in /anaconda2/envs/jiant/lib/python3.6/site-packages (from statsmodels) (0.24.2)\n",
      "Requirement already satisfied: scipy>=0.18 in /anaconda2/envs/jiant/lib/python3.6/site-packages (from statsmodels) (1.1.0)\n",
      "Requirement already satisfied: six in /anaconda2/envs/jiant/lib/python3.6/site-packages (from patsy>=0.4.0->statsmodels) (1.12.0)\n",
      "Requirement already satisfied: pytz>=2011k in /anaconda2/envs/jiant/lib/python3.6/site-packages (from pandas>=0.19->statsmodels) (2017.3)\n",
      "Requirement already satisfied: python-dateutil>=2.5.0 in /anaconda2/envs/jiant/lib/python3.6/site-packages (from pandas>=0.19->statsmodels) (2.7.5)\n",
      "Installing collected packages: patsy, statsmodels\n",
      "Successfully installed patsy-0.5.1 statsmodels-0.10.2\n"
     ]
    }
   ],
   "source": [
    "import glob\n",
    "import os\n",
    "import pandas as pd\n",
    "import sys\n",
    "import json\n",
    "import tqdm\n",
    "import numpy as np\n",
    "import itertools\n",
    "import seaborn as sns\n",
    "!pip install statsmodels\n",
    "import statsmodels.api as sm"
   ]
  },
  {
   "cell_type": "code",
   "execution_count": 3,
   "metadata": {},
   "outputs": [],
   "source": [
    "import matplotlib.pyplot as plt\n",
    "%matplotlib inline"
   ]
  },
  {
   "cell_type": "code",
   "execution_count": 4,
   "metadata": {},
   "outputs": [
    {
     "ename": "ModuleNotFoundError",
     "evalue": "No module named 'get_results_row'",
     "output_type": "error",
     "traceback": [
      "\u001b[0;31m---------------------------------------------------------------------------\u001b[0m",
      "\u001b[0;31mModuleNotFoundError\u001b[0m                       Traceback (most recent call last)",
      "\u001b[0;32m<ipython-input-4-f7931436ad03>\u001b[0m in \u001b[0;36m<module>\u001b[0;34m\u001b[0m\n\u001b[1;32m      2\u001b[0m \u001b[0msys\u001b[0m\u001b[0;34m.\u001b[0m\u001b[0mpath\u001b[0m \u001b[0;34m+=\u001b[0m \u001b[0;34m[\u001b[0m\u001b[0;34m\"/home/zp489/code/bowman/jiant\"\u001b[0m\u001b[0;34m]\u001b[0m\u001b[0;34m\u001b[0m\u001b[0;34m\u001b[0m\u001b[0m\n\u001b[1;32m      3\u001b[0m \u001b[0msys\u001b[0m\u001b[0;34m.\u001b[0m\u001b[0mpath\u001b[0m \u001b[0;34m+=\u001b[0m \u001b[0;34m[\u001b[0m\u001b[0;34m\"/home/zp489/code/bowman/jiant/scripts/taskmaster\"\u001b[0m\u001b[0;34m]\u001b[0m\u001b[0;34m\u001b[0m\u001b[0;34m\u001b[0m\u001b[0m\n\u001b[0;32m----> 4\u001b[0;31m \u001b[0;32mimport\u001b[0m \u001b[0mget_results_row\u001b[0m \u001b[0;32mas\u001b[0m \u001b[0mget_results_row\u001b[0m\u001b[0;34m\u001b[0m\u001b[0;34m\u001b[0m\u001b[0m\n\u001b[0m\u001b[1;32m      5\u001b[0m \u001b[0;32mimport\u001b[0m \u001b[0mgrab_analysis_data\u001b[0m \u001b[0;32mas\u001b[0m \u001b[0mgrab_analysis_data\u001b[0m\u001b[0;34m\u001b[0m\u001b[0;34m\u001b[0m\u001b[0m\n\u001b[1;32m      6\u001b[0m \u001b[0;32mimport\u001b[0m \u001b[0mcalculate_correlations\u001b[0m \u001b[0;32mas\u001b[0m \u001b[0mcalculate_correlations\u001b[0m\u001b[0;34m\u001b[0m\u001b[0;34m\u001b[0m\u001b[0m\n",
      "\u001b[0;31mModuleNotFoundError\u001b[0m: No module named 'get_results_row'"
     ]
    }
   ],
   "source": [
    "# Adjust to your path!\n",
    "sys.path += [\"/home/zp489/code/bowman/jiant\"]\n",
    "sys.path += [\"/home/zp489/code/bowman/jiant/scripts/taskmaster\"]\n",
    "import get_results_row as get_results_row\n",
    "import grab_analysis_data as grab_analysis_data\n",
    "import calculate_correlations as calculate_correlations"
   ]
  },
  {
   "cell_type": "code",
   "execution_count": 4,
   "metadata": {},
   "outputs": [
    {
     "name": "stderr",
     "output_type": "stream",
     "text": [
      "100%|██████████| 102/102 [00:00<00:00, 400.51it/s]\n"
     ]
    }
   ],
   "source": [
    "all_data = grab_analysis_data.load_raw_data(\"/scratch/zp489/share/nlutransfer/results/phase2\")"
   ]
  },
  {
   "cell_type": "code",
   "execution_count": 5,
   "metadata": {},
   "outputs": [],
   "source": [
    "results_df = grab_analysis_data.get_correlation_raw_data(all_data)\n",
    "results_df = results_df[[col for col in results_df.columns if not col.endswith(\"_MIX\")]]"
   ]
  },
  {
   "cell_type": "code",
   "execution_count": null,
   "metadata": {
    "scrolled": true
   },
   "outputs": [],
   "source": [
    "# Pearson\n",
    "\n",
    "correl, p_value, count = calculate_correlations.compute_correlation_stats(results_df)\n",
    "fig = plt.figure(figsize=(16, 16))\n",
    "correl_sig = correl.copy()\n",
    "correl_sig[p_value > 0.05] = np.NaN\n",
    "sns.heatmap(correl_sig, cmap=\"RdBu\", vmin=-1, vmax=1)\n",
    "fig.gca().xaxis.tick_top()\n",
    "fig.gca().xaxis.set_label_position('top')\n",
    "plt.xticks(rotation=90)\n",
    "\n",
    "plt.axhline(10, lw=3, color=\"black\")\n",
    "plt.axvline(10, lw=3, color=\"black\")\n",
    "plt.grid()"
   ]
  },
  {
   "cell_type": "code",
   "execution_count": null,
   "metadata": {
    "scrolled": false
   },
   "outputs": [],
   "source": [
    "# Spearman\n",
    "correl, p_value, count = calculate_correlations.compute_correlation_stats(results_df, correl_type=\"spearman\")\n",
    "fig = plt.figure(figsize=(16, 16))\n",
    "correl_sig = correl.copy()\n",
    "correl_sig[p_value > 0.05] = np.NaN\n",
    "sns.heatmap(correl_sig, cmap=\"RdBu\", vmin=-1, vmax=1)\n",
    "fig.gca().xaxis.tick_top()\n",
    "fig.gca().xaxis.set_label_position('top')\n",
    "plt.xticks(rotation=90)\n",
    "\n",
    "plt.axhline(10, lw=3, color=\"black\")\n",
    "plt.axvline(10, lw=3, color=\"black\")\n",
    "plt.grid()"
   ]
  },
  {
   "cell_type": "code",
   "execution_count": null,
   "metadata": {},
   "outputs": [],
   "source": [
    "# Data Count\n",
    "fig = plt.figure(figsize=(16, 16))\n",
    "sns.heatmap(count)\n",
    "fig.gca().xaxis.tick_top()\n",
    "fig.gca().xaxis.set_label_position('top')\n",
    "plt.xticks(rotation=90)\n",
    "\n",
    "plt.axhline(10, lw=3, color=\"black\")\n",
    "plt.axvline(10, lw=3, color=\"black\")\n",
    "plt.grid()"
   ]
  },
  {
   "cell_type": "code",
   "execution_count": null,
   "metadata": {},
   "outputs": [],
   "source": [
    "col_a = \"record_TRG\"\n",
    "col_b = \"se-probing-tree-depth_PRB\"\n",
    "results_df.plot.scatter(col_a, col_b)"
   ]
  },
  {
   "cell_type": "code",
   "execution_count": null,
   "metadata": {
    "scrolled": true
   },
   "outputs": [],
   "source": [
    "sub_df = results_df[[col_a, col_b]].dropna(how=\"any\").sort_values(col_a)\n",
    "print(sub_df.corr().iloc[0, 1])\n",
    "sub_df"
   ]
  },
  {
   "cell_type": "markdown",
   "metadata": {},
   "source": [
    "# Regression"
   ]
  },
  {
   "cell_type": "code",
   "execution_count": null,
   "metadata": {},
   "outputs": [],
   "source": [
    "full_df = grab_analysis_data.get_regression_raw_data(\n",
    "    all_data, \n",
    "    single_metadata=pd.read_csv(\"/scratch/zp489/share/nlutransfer/metadata/single_task_metadata.csv\"),\n",
    "    double_metadata=pd.read_csv(\"/scratch/zp489/share/nlutransfer/metadata/double_task_metadata.csv\"),\n",
    ")\n",
    "full_df = full_df[[col for col in full_df.columns if not col.endswith(\"_MIX\")]]"
   ]
  },
  {
   "cell_type": "code",
   "execution_count": null,
   "metadata": {},
   "outputs": [],
   "source": [
    "regression_data_df = full_df\n",
    "regression_data_df = full_df \\\n",
    "    .astype(\"float\") \\\n",
    "    .dropna(how=\"all\", axis=1) \\\n",
    "    .dropna(how=\"any\", axis=0)  \n",
    "# Drops all fully empty columns\n",
    "# Drops all rows with NaNs\n",
    "\n",
    "print(regression_data_df.shape)"
   ]
  },
  {
   "cell_type": "code",
   "execution_count": null,
   "metadata": {
    "scrolled": false
   },
   "outputs": [],
   "source": [
    "# 1. Include all vars\n",
    "\n",
    "# Select X, y\n",
    "x_df = regression_data_df.drop([\"targ\", \"single_performance_mean_META_TRG\", \"single_performance_mean_META_INT\"], axis=1)\n",
    "y_srs = regression_data_df[\"targ\"] - regression_data_df[\"single_performance_mean_META_TRG\"]\n",
    "\n",
    "# Adds bias / intercept column to X\n",
    "full_x_df = sm.add_constant(x_df)\n",
    "est = sm.OLS(y_srs, full_x_df)\n",
    "est = est.fit()\n",
    "print(est.summary())\n",
    "y_hat = est.predict(full_x_df)"
   ]
  },
  {
   "cell_type": "code",
   "execution_count": null,
   "metadata": {},
   "outputs": [],
   "source": [
    "# 2. Only metadata\n",
    "\n",
    "# Select X, y\n",
    "x_df = regression_data_df[[col for col in regression_data_df.columns if \"META\" in col and col not in [\n",
    "    \"single_performance_mean_META_TRG\", \"single_performance_mean_META_INT\"]]]\n",
    "y_srs = regression_data_df[\"targ\"] - regression_data_df[\"single_performance_mean_META_TRG\"]\n",
    "\n",
    "# Adds bias / intercept column to X\n",
    "full_x_df = sm.add_constant(x_df)\n",
    "est = sm.OLS(y_srs, full_x_df)\n",
    "est = est.fit()\n",
    "print(est.summary())\n",
    "y_hat = est.predict(full_x_df)"
   ]
  },
  {
   "cell_type": "code",
   "execution_count": null,
   "metadata": {},
   "outputs": [],
   "source": [
    "# 3. Exclude metadata\n",
    "\n",
    "# Select X, y\n",
    "x_df = regression_data_df[[col for col in regression_data_df.columns if \"META\" not in col and col != \"targ\"]]\n",
    "y_srs = regression_data_df[\"targ\"] - regression_data_df[\"single_performance_mean_META_TRG\"]\n",
    "\n",
    "# Adds bias / intercept column to X\n",
    "full_x_df = sm.add_constant(x_df)\n",
    "est = sm.OLS(y_srs, full_x_df)\n",
    "est = est.fit()\n",
    "print(est.summary())\n",
    "y_hat = est.predict(full_x_df)"
   ]
  }
 ],
 "metadata": {
  "kernelspec": {
   "display_name": "Python 3",
   "language": "python",
   "name": "python3"
  },
  "language_info": {
   "codemirror_mode": {
    "name": "ipython",
    "version": 3
   },
   "file_extension": ".py",
   "mimetype": "text/x-python",
   "name": "python",
   "nbconvert_exporter": "python",
   "pygments_lexer": "ipython3",
   "version": "3.7.3"
  }
 },
 "nbformat": 4,
 "nbformat_minor": 2
}
