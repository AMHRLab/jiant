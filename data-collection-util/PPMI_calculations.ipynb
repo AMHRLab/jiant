{
 "cells": [
  {
   "cell_type": "markdown",
   "metadata": {
    "colab_type": "text",
    "id": "cNtJUsnDqOS2"
   },
   "source": [
    "By Suchin Gururangan and Swabha Swayamdipta, 2018; Modified by Sam Bowman, 2019; MIT License\n",
    "\n",
    "Used to produce the PPMI statistics shown in this paper:\n",
    "https://www.aclweb.org/anthology/N18-2017/"
   ]
  },
  {
   "cell_type": "markdown",
   "metadata": {
    "colab_type": "text",
    "id": "mvmD2S_oqOS5"
   },
   "source": [
    "# PPMI Distributions"
   ]
  },
  {
   "cell_type": "code",
   "execution_count": null,
   "metadata": {
    "colab": {},
    "colab_type": "code",
    "id": "4ZjkjSvWqOS6"
   },
   "outputs": [],
   "source": [
    "import pandas as pd\n",
    "import seaborn as sns\n",
    "import matplotlib.pyplot as plt\n",
    "import re\n",
    "from collections import Counter\n",
    "import string\n",
    "from IPython.core.debugger import Tracer\n",
    "import numpy as np\n",
    "from nltk import PorterStemmer\n",
    "from nltk.tokenize import word_tokenize\n",
    "%matplotlib inline"
   ]
  },
  {
   "cell_type": "markdown",
   "metadata": {
    "colab_type": "text",
    "id": "tD3jiZbLqOTA"
   },
   "source": [
    "## Load Data"
   ]
  },
  {
   "cell_type": "code",
   "execution_count": null,
   "metadata": {
    "colab": {
     "base_uri": "https://localhost:8080/",
     "height": 463
    },
    "colab_type": "code",
    "executionInfo": {
     "elapsed": 558,
     "status": "ok",
     "timestamp": 1574871575161,
     "user_tz": 300
    },
    "id": "UhMfBKr9qOTB",
    "outputId": "0672ab68-0b23-47d6-b856-50566d591cae"
   },
   "outputs": [],
   "source": [
    "# A few warnings are expected here due to format mismatches. These should not impact the target calculations.\n",
    "mnli = pd.read_csv('/Users/srbowman/glue_data/MNLI/train.tsv',\n",
    "                   sep = '\\t',\n",
    "                   error_bad_lines=False).dropna(subset=['sentence2'])\n",
    "mnli = mnli[mnli['genre'] == 'government']  # Using only the 'government' genre section of MNLI here\n",
    "mnli = mnli[0:8500]  # Trimming this to match the size of the other datasets under study.\n",
    "mnli[0:10]"
   ]
  },
  {
   "cell_type": "markdown",
   "metadata": {
    "colab_type": "text",
    "id": "1Xb64CLsqOTD"
   },
   "source": [
    "## Functions"
   ]
  },
  {
   "cell_type": "code",
   "execution_count": null,
   "metadata": {
    "colab": {},
    "colab_type": "code",
    "id": "H7xf_QwUqOTE"
   },
   "outputs": [],
   "source": [
    "def tokenize(string):\n",
    "    \"\"\"\n",
    "    tokenize string from binary parse\n",
    "    \"\"\"\n",
    "\n",
    "    tokens = word_tokenize(string.lower())\n",
    "    return tokens\n",
    "\n",
    "def pmi(df):\n",
    "    \"\"\"\n",
    "    PPMI\n",
    "    Args:\n",
    "        df -> dataframe (mnli or snli)\n",
    "    Returns:\n",
    "        pmis -> pmi data\n",
    "    \"\"\"\n",
    "    alpha = 10.0\n",
    "    # get joint (w,c) counts\n",
    "    Px = []\n",
    "    Py = []\n",
    "    Pxy = []\n",
    "    for idx, row in df.iterrows():\n",
    "        for word in tokenize(row.sentence2):\n",
    "            Pxy.append((word, row.gold_label))\n",
    "            Py.append(row.gold_label)\n",
    "            # Two-class alternative to the above:\n",
    "            # Pxy.append((word, \"entailment\" if row.gold_label == \"entailment\" else \"contradiction\"))\n",
    "            # Py.append(\"entailment\" if row.gold_label == \"entailment\" else \"contradiction\")\n",
    "            Px.append(word)\n",
    "\n",
    "    Pxy = Counter(Pxy)\n",
    "    Px = Counter(Px)\n",
    "    Py = Counter(Py)\n",
    "    Py = {y: c + len(Px)*alpha for y, c in Py.items()}\n",
    "    Px = {x: c + 3*alpha for x, c in Px.items()}\n",
    "    total_word_count = sum(Px.values())\n",
    "\n",
    "    # get c counts\n",
    "    pmis = []\n",
    "    \n",
    "    seen_pairs = {}\n",
    "    total_Py = 3\n",
    "    for word in Px.keys():\n",
    "        for cls in ['contradiction', 'entailment', 'neutral']:  # Remove 'neutral' for two-class version.\n",
    "            if seen_pairs.get((word, cls)) is None:\n",
    "                # artificial smoothing\n",
    "                word_count = float(Px[word])\n",
    "                cls_count = float(Py[cls])\n",
    "                word_cls_count = Pxy.get((word, cls), 0.0) + alpha\n",
    "                z = (float(word_cls_count) * total_word_count / (float(word_count) * float(cls_count)))\n",
    "                # ppmi\n",
    "                pmi = max([np.log(z), 0.0])\n",
    "                output = {'word': word,\n",
    "                          'class': cls,\n",
    "                          'pmi': pmi,\n",
    "                          'count': word_count - 3*alpha,\n",
    "                          'wc_count': Pxy.get((word, cls), 0.0),}\n",
    "                seen_pairs[(word, cls)] = 1\n",
    "                pmis.append(output)\n",
    "    pmis = pd.DataFrame(pmis)\n",
    "    return pmis"
   ]
  },
  {
   "cell_type": "markdown",
   "metadata": {
    "colab_type": "text",
    "id": "H_XO6tSQqOTG"
   },
   "source": [
    "## Run PPMI"
   ]
  },
  {
   "cell_type": "code",
   "execution_count": null,
   "metadata": {
    "colab": {},
    "colab_type": "code",
    "id": "WVZerSpoqOTI"
   },
   "outputs": [],
   "source": [
    "mnli_pmi = pmi(mnli)"
   ]
  },
  {
   "cell_type": "markdown",
   "metadata": {
    "colab_type": "text",
    "id": "Pk0eJyulqOTL"
   },
   "source": [
    "## Top 50 PPMIs across NLI Dataset"
   ]
  },
  {
   "cell_type": "code",
   "execution_count": null,
   "metadata": {
    "colab": {},
    "colab_type": "code",
    "id": "GjmPXAEqqOTM",
    "outputId": "64437e41-b3be-46fd-bcf7-1e55b36bdbcd"
   },
   "outputs": [],
   "source": [
    "sns.set_style(\"whitegrid\", {'axes.grid' : False})\n",
    "mnli_pmi.sort_values(by='pmi', ascending=False).head(n=50)"
   ]
  },
  {
   "cell_type": "markdown",
   "metadata": {
    "colab_type": "text",
    "id": "O718GzC5qOTR"
   },
   "source": [
    "## MNLI class PPMIs"
   ]
  },
  {
   "cell_type": "code",
   "execution_count": null,
   "metadata": {
    "colab": {},
    "colab_type": "code",
    "id": "Xob7glEaqOTS",
    "outputId": "6de13e86-b445-46b1-d52d-d55bf346080c"
   },
   "outputs": [],
   "source": [
    "sns.set_style(\"whitegrid\", {'axes.grid' : False})\n",
    "ax = (mnli_pmi.loc[mnli_pmi['class'] == 'contradiction']\n",
    "              .sort_values(by='pmi', ascending=False)\n",
    "              .head(n=20)\n",
    "              .plot(kind='barh', x='word', y='pmi', title='top 20 PPMI(word, contradiction) MNLI', legend=False))\n"
   ]
  },
  {
   "cell_type": "code",
   "execution_count": null,
   "metadata": {
    "colab": {},
    "colab_type": "code",
    "id": "maJ5KyztqOTW",
    "outputId": "642a4784-f249-4506-b1ef-c07fb387f171"
   },
   "outputs": [],
   "source": [
    "sns.set_style(\"whitegrid\", {'axes.grid' : False})\n",
    "ax = (mnli_pmi.loc[mnli_pmi['class'] == 'entailment']\n",
    "              .sort_values(by='pmi', ascending=False)\n",
    "              .head(n=20)\n",
    "              .plot(kind='barh', x='word', y='pmi', title='top 20 PPMI(word, entailment) MNLI', legend=False))\n"
   ]
  },
  {
   "cell_type": "code",
   "execution_count": null,
   "metadata": {
    "colab": {},
    "colab_type": "code",
    "id": "8IwmWGnNqOTa",
    "outputId": "d4c6ead4-92f1-4dc8-9934-798f1a35d0c6"
   },
   "outputs": [],
   "source": [
    "sns.set_style(\"whitegrid\", {'axes.grid' : False})\n",
    "ax = (mnli_pmi.loc[mnli_pmi['class'] == 'neutral']\n",
    "              .sort_values(by='pmi', ascending=False)\n",
    "              .head(n=20)\n",
    "              .plot(kind='barh', x='word', y='pmi', title='top 20 PPMI(word, neutral) MNLI', legend=False))\n"
   ]
  }
 ],
 "metadata": {
  "colab": {
   "name": "PPMI_calculations.ipynb",
   "provenance": []
  },
  "kernelspec": {
   "display_name": "Python 3",
   "language": "python",
   "name": "python3"
  },
  "language_info": {
   "codemirror_mode": {
    "name": "ipython",
    "version": 3
   },
   "file_extension": ".py",
   "mimetype": "text/x-python",
   "name": "python",
   "nbconvert_exporter": "python",
   "pygments_lexer": "ipython3",
   "version": "3.6.8"
  }
 },
 "nbformat": 4,
 "nbformat_minor": 1
}
